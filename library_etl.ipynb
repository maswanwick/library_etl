{
 "cells": [
  {
   "cell_type": "code",
   "execution_count": null,
   "metadata": {},
   "outputs": [],
   "source": [
    "import requests\n",
    "from pymongo import MongoClient\n",
    "import psycopg2\n",
    "import pandas as pd\n",
    "import re\n",
    "\n",
    "import warnings\n",
    "warnings.filterwarnings('ignore')"
   ]
  },
  {
   "cell_type": "code",
   "execution_count": null,
   "metadata": {},
   "outputs": [],
   "source": [
    "# setup the book database using mongo\n",
    "\n",
    "mongo = MongoClient(port=27017)\n",
    "\n",
    "# drop the database if it already exists\n",
    "mongo.drop_database('books_db')\n",
    "\n",
    "db = mongo.books_db\n",
    "\n",
    "# add reference to the books collection\n",
    "books = db.books"
   ]
  },
  {
   "cell_type": "code",
   "execution_count": null,
   "metadata": {},
   "outputs": [],
   "source": [
    "def getDataForPageAsJSON(pageNum):\n",
    "    # this api call will retrieve mystery novels, in book format, from the Olathe Downtown library, based on the response page number\n",
    "    \n",
    "    query = {\n",
    "        \"query\": \"branch:\\\"Olathe - Downtown\\\" category1:\\\"BkAdultCirc Mystery\\\" contentclass:\\\"FICTION\\\" formatcode:(BK )\",\n",
    "        \"searchType\": \"bl\",\n",
    "        \"custom_edit\": \"false\",\n",
    "        \"suppress\": \"true\",\n",
    "        \"page\": f\"{pageNum}\",\n",
    "        \"view\": \"grouped\"\n",
    "    }\n",
    "\n",
    "    results = requests.post('https://gateway.bibliocommons.com/v2/libraries/jocolibrary/bibs/search?locale=en-US', json=query)\n",
    "\n",
    "    return results.json()"
   ]
  },
  {
   "cell_type": "code",
   "execution_count": null,
   "metadata": {},
   "outputs": [],
   "source": [
    "def addBooksToDB(bookList):\n",
    "    # insert results in to mongo\n",
    "    books.insert_many(bookList)"
   ]
  },
  {
   "cell_type": "code",
   "execution_count": null,
   "metadata": {},
   "outputs": [],
   "source": [
    "def getBookList(resultJSON):\n",
    "    books = []\n",
    "    # the key for the book in the JSON is the 'id' value.  So need to select the id into a variable and select the underlying data from it.\n",
    "    for entry in resultJSON['entities']['bibs']:\n",
    "        id = entry;\n",
    "        books.append(resultJSON['entities']['bibs'][id])\n",
    "\n",
    "    return books"
   ]
  },
  {
   "cell_type": "code",
   "execution_count": null,
   "metadata": {},
   "outputs": [],
   "source": [
    "def getDBCursor(dbName):\n",
    "    # return the db cursor.  DB name is a parameter, since we need to use postgres to create the library db, then need library to create the tables and insert data.\n",
    "    conn = psycopg2.connect(\n",
    "        database=f\"{dbName}\", user='postgres', password='postgres', host='127.0.0.1', port='5432'\n",
    "    )\n",
    "\n",
    "    conn.autocommit = True\n",
    "\n",
    "    cursor = conn.cursor()\n",
    "    \n",
    "    return cursor"
   ]
  },
  {
   "cell_type": "code",
   "execution_count": null,
   "metadata": {},
   "outputs": [],
   "source": [
    "def createLibraryDB():\n",
    "    # create the library db in postgres\n",
    "    \n",
    "    db_cursor = getDBCursor('postgres')\n",
    "\n",
    "    db_cursor.execute(\"DROP DATABASE IF EXISTS library WITH (FORCE)\")\n",
    "    db_cursor.execute(\"CREATE DATABASE library\")\n",
    "\n",
    "    db_cursor.connection.close()"
   ]
  },
  {
   "cell_type": "code",
   "execution_count": null,
   "metadata": {},
   "outputs": [],
   "source": [
    "def createLibraryTables():\n",
    "    # create the library tables\n",
    "    \n",
    "    db_cursor = getDBCursor('library')\n",
    "\n",
    "    db_cursor.execute(open(\"create_tables.sql\", \"r\").read())\n",
    "\n",
    "    db_cursor.connection.close()"
   ]
  },
  {
   "cell_type": "code",
   "execution_count": null,
   "metadata": {},
   "outputs": [],
   "source": [
    "def loadAvailability(avail_list):\n",
    "    # insert the availability reference table data\n",
    "    \n",
    "    db_cursor = getDBCursor('library')\n",
    "\n",
    "    for item in avail_list:\n",
    "        db_cursor.execute(f\"INSERT INTO availability (availability_status) VALUES ('{item}')\")\n",
    "\n",
    "    db_cursor.connection.commit()\n",
    "\n",
    "    # return the table data as a pandas DataFrame for in-memory lookup\n",
    "\n",
    "    avail_df = pd.read_sql(\"SELECT * FROM availability\", db_cursor.connection)\n",
    "\n",
    "    db_cursor.connection.close()\n",
    "\n",
    "    return avail_df"
   ]
  },
  {
   "cell_type": "code",
   "execution_count": null,
   "metadata": {},
   "outputs": [],
   "source": [
    "def loadAuthors(author_list):\n",
    "    # insert the author reference table data.\n",
    "    # Using regex to split the name into first and last name.\n",
    "    # NOTE:  Could have used 'split', but wanted to use regex for practice.\n",
    "\n",
    "    db_cursor = getDBCursor('library')\n",
    "\n",
    "    first_name_pattern = '^[^,]*'\n",
    "    last_name_pattern = '(?<=,\\s).*$'\n",
    "\n",
    "    author_data = [tuple((name, re.findall(first_name_pattern, name)[0], re.findall(last_name_pattern, name)[0])) if ',' in name else tuple((name, None, None)) for name in author_list]\n",
    "\n",
    "    db_args = ','.join(db_cursor.mogrify(\"(%s,%s,%s)\", author).decode('utf-8') for author in author_data)\n",
    "\n",
    "    db_cursor.execute(\"INSERT INTO author (full_name, last_name, first_name) VALUES \" + (db_args))\n",
    "\n",
    "    db_cursor.connection.commit()\n",
    "\n",
    "    # return the table data as a pandas DataFrame for in-memory lookup\n",
    "    \n",
    "    author_df = pd.read_sql(\"SELECT * FROM author\", db_cursor.connection)\n",
    "\n",
    "    db_cursor.connection.close()\n",
    "\n",
    "    return author_df"
   ]
  },
  {
   "cell_type": "code",
   "execution_count": null,
   "metadata": {},
   "outputs": [],
   "source": [
    "def getAvailabilityID(availability_data, value):\n",
    "    # return the availability.availability_id based on the passed status value\n",
    "    return availability_data.loc[availability_data['availability_status'] == value]['availability_id'].item()"
   ]
  },
  {
   "cell_type": "code",
   "execution_count": null,
   "metadata": {},
   "outputs": [],
   "source": [
    "def loadBooks(book_list, availability_data):\n",
    "    # insert the books table data\n",
    "\n",
    "    db_cursor = getDBCursor('library')\n",
    "\n",
    "    book_data = [tuple((book['id'], \n",
    "                    book['briefInfo']['title'], \n",
    "                    book['briefInfo']['description'],\n",
    "                    getAvailabilityID(availability_data, book['availability']['status']))) for book in book_list]\n",
    "    \n",
    "    db_args = ','.join(db_cursor.mogrify(\"(%s,%s,%s,%s)\", book).decode('utf-8') for book in book_data)\n",
    "\n",
    "    db_cursor.execute(\"INSERT INTO book (internal_id, title, description, availability_id) VALUES \" + (db_args))\n",
    "\n",
    "    db_cursor.connection.commit()\n",
    "\n",
    "    # return the table data as a pandas DataFrame for in-memory lookup\n",
    "    \n",
    "    book_df = pd.read_sql(\"SELECT * FROM book\", db_cursor.connection)\n",
    "\n",
    "    db_cursor.connection.close()\n",
    "\n",
    "    return book_df\n"
   ]
  },
  {
   "cell_type": "code",
   "execution_count": null,
   "metadata": {},
   "outputs": [],
   "source": [
    "def loadBookAuthors(author_data, book_data, unique_books):\n",
    "    # inser the book/author cross-reference table data\n",
    "    \n",
    "    db_cursor = getDBCursor('library')\n",
    "\n",
    "    book_authors = []\n",
    "\n",
    "    for book in unique_books:\n",
    "        \n",
    "        book_id = book_data.loc[book_data['internal_id'] == book['id']]['book_id'].item()\n",
    "        for author in book['briefInfo']['authors']:\n",
    "            author_id = author_data.loc[author_data['full_name'] == author]['author_id'].item()\n",
    "            book_authors.append(tuple((book_id, author_id)))\n",
    "\n",
    "    db_args = ','.join(db_cursor.mogrify(\"(%s,%s)\", book_author).decode('utf-8') for book_author in book_authors)\n",
    "\n",
    "    db_cursor.execute(\"INSERT INTO book_author_xref (book_id, author_id) VALUES \" + (db_args))\n",
    "\n",
    "    db_cursor.connection.commit()\n",
    "\n",
    "    db_cursor.connection.close()"
   ]
  },
  {
   "cell_type": "code",
   "execution_count": null,
   "metadata": {},
   "outputs": [],
   "source": [
    "print ('Starting library data load...')\n",
    "\n",
    "# get the first page worth of data so we know how many total pages there are\n",
    "firstPage = getDataForPageAsJSON(1)\n",
    "\n",
    "totalPages = firstPage['catalogSearch']['pagination']['pages']\n",
    "\n",
    "booksList = getBookList(firstPage)\n",
    "\n",
    "addBooksToDB(booksList)\n",
    "\n",
    "for pageNum in range(2, totalPages + 1):\n",
    "    print(f'Getting data for page {pageNum}...')\n",
    "    pageData = getDataForPageAsJSON(pageNum)\n",
    "    booksList = getBookList(pageData)\n",
    "    addBooksToDB(booksList)\n",
    "\n",
    "createLibraryDB()\n",
    "createLibraryTables()\n",
    "\n",
    "availability_data = loadAvailability(books.distinct('availability.status'))\n",
    "author_data = loadAuthors(books.distinct('briefInfo.authors'))\n",
    "\n",
    "fields = {'_id':0, 'id': 1, 'briefInfo.title': 1, 'briefInfo.description': 1, 'briefInfo.authors': 1, 'availability.status': 1}\n",
    "book_list = list(books.find({}, fields))\n",
    "\n",
    "# cleaning - found that duplicate book records are returned in the api.  This list comprehension will keep unique book objects\n",
    "unique_books = []\n",
    "[unique_books.append(book) for book in book_list if book not in unique_books]\n",
    "\n",
    "book_data = loadBooks(unique_books, availability_data)\n",
    "\n",
    "loadBookAuthors(author_data, book_data, unique_books)\n",
    "\n",
    "print('Library data load complete.')"
   ]
  }
 ],
 "metadata": {
  "kernelspec": {
   "display_name": "PythonData2",
   "language": "python",
   "name": "pythondata2"
  },
  "language_info": {
   "codemirror_mode": {
    "name": "ipython",
    "version": 3
   },
   "file_extension": ".py",
   "mimetype": "text/x-python",
   "name": "python",
   "nbconvert_exporter": "python",
   "pygments_lexer": "ipython3",
   "version": "3.11.5"
  }
 },
 "nbformat": 4,
 "nbformat_minor": 2
}
